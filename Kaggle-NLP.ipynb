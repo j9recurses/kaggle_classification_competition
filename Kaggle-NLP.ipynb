{
 "metadata": {
  "name": "",
  "signature": "sha256:6aa0f79d9180525d373401011a37c00e2b55cbc75a161d4a2fae0167763736af"
 },
 "nbformat": 3,
 "nbformat_minor": 0,
 "worksheets": [
  {
   "cells": [
    {
     "cell_type": "code",
     "collapsed": false,
     "input": [
      "import nltk \n",
      "from random import shuffle \n",
      "from collections import Counter"
     ],
     "language": "python",
     "metadata": {},
     "outputs": [],
     "prompt_number": 1
    },
    {
     "cell_type": "code",
     "collapsed": false,
     "input": [
      "def prep_data():\n",
      "    f = open('data/train.txt','r')\n",
      "    train_raw = f.read()\n",
      "    f.close() \n",
      "    train_split = train_raw.split('\\n')\n",
      "    train_tuples = [ (line[2:], line[0]) for line in train_split if line != '']\n",
      "    \n",
      "    \n",
      "    shuffle(train_tuples)\n",
      "    total_size = len(train_tuples)\n",
      "    train_size = int(total_size * 0.9) \n",
      "    return train_tuples[:train_size], train_tuples[train_size:]\n",
      "\n"
     ],
     "language": "python",
     "metadata": {},
     "outputs": [],
     "prompt_number": 2
    },
    {
     "cell_type": "code",
     "collapsed": false,
     "input": [
      "yahoo_train, yahoo_test = prep_data()\n",
      "print yahoo_train[0:10]"
     ],
     "language": "python",
     "metadata": {},
     "outputs": [
      {
       "output_type": "stream",
       "stream": "stdout",
       "text": [
        "[('is cliffnotes.com helpful and give most of a books details? is cliffnotes.com helpful? does it give you pretty much the whole book details?', '1'), ('what does my friend mean when she calls me a child then corrects herself and calls me a kid? ', '1'), ('will the flock web browser be usefull? wondering if anyone thinks flock will be a usefull browser, or will people just put extensions on to firefox?', '2'), ('what is orgasam? ', '4'), ('what is the normal value for resting blood sugar? ', '6'), (\"what does it really mean to love somebody? how do you know if it's truly love what you feel for them? \", '4'), ('who were the friends of susan b. anthony or inspiration? ', '5'), ('how can i create guestbook in my website ? i use html in dreamweaver? ', '2'), ('is this the end of the housing boom? for october, existing home sales was down while new home sales surged.? with consumer confidence and new home sales up, it is almost 100% sure that the feds will raise short term interest rate again in december and likely in january.  will long term rate move up more?  with current mortage rate, buyer are still willing to pay premium for houses.  clearly, easy money are still out there.', '1'), ('who is the director, network and carrier systems for sprint? ', '1')]\n"
       ]
      }
     ],
     "prompt_number": 4
    }
   ],
   "metadata": {}
  }
 ]
}